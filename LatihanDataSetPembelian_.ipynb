{
  "nbformat": 4,
  "nbformat_minor": 0,
  "metadata": {
    "colab": {
      "name": "LatihanDataSetPembelian .ipynb",
      "provenance": [],
      "authorship_tag": "ABX9TyNkekIEpegkCdhT7qDSok/L",
      "include_colab_link": true
    },
    "kernelspec": {
      "name": "python3",
      "display_name": "Python 3"
    }
  },
  "cells": [
    {
      "cell_type": "markdown",
      "metadata": {
        "id": "view-in-github",
        "colab_type": "text"
      },
      "source": [
        "<a href=\"https://colab.research.google.com/github/Semayatri/Cloud_Administration_Workshop/blob/main/LatihanDataSetPembelian_.ipynb\" target=\"_parent\"><img src=\"https://colab.research.google.com/assets/colab-badge.svg\" alt=\"Open In Colab\"/></a>"
      ]
    },
    {
      "cell_type": "code",
      "metadata": {
        "id": "Gv2I1K3HYVeE",
        "colab": {
          "base_uri": "https://localhost:8080/"
        },
        "outputId": "0c50eafd-4c66-4233-8813-e48b137704b7"
      },
      "source": [
        "pip install mlxtend"
      ],
      "execution_count": 1,
      "outputs": [
        {
          "output_type": "stream",
          "text": [
            "Requirement already satisfied: mlxtend in /usr/local/lib/python3.6/dist-packages (0.14.0)\n",
            "Requirement already satisfied: pandas>=0.17.1 in /usr/local/lib/python3.6/dist-packages (from mlxtend) (1.1.5)\n",
            "Requirement already satisfied: setuptools in /usr/local/lib/python3.6/dist-packages (from mlxtend) (51.3.3)\n",
            "Requirement already satisfied: scipy>=0.17 in /usr/local/lib/python3.6/dist-packages (from mlxtend) (1.4.1)\n",
            "Requirement already satisfied: numpy>=1.10.4 in /usr/local/lib/python3.6/dist-packages (from mlxtend) (1.19.5)\n",
            "Requirement already satisfied: scikit-learn>=0.18 in /usr/local/lib/python3.6/dist-packages (from mlxtend) (0.22.2.post1)\n",
            "Requirement already satisfied: matplotlib>=1.5.1 in /usr/local/lib/python3.6/dist-packages (from mlxtend) (3.2.2)\n",
            "Requirement already satisfied: python-dateutil>=2.7.3 in /usr/local/lib/python3.6/dist-packages (from pandas>=0.17.1->mlxtend) (2.8.1)\n",
            "Requirement already satisfied: pytz>=2017.2 in /usr/local/lib/python3.6/dist-packages (from pandas>=0.17.1->mlxtend) (2018.9)\n",
            "Requirement already satisfied: joblib>=0.11 in /usr/local/lib/python3.6/dist-packages (from scikit-learn>=0.18->mlxtend) (1.0.0)\n",
            "Requirement already satisfied: kiwisolver>=1.0.1 in /usr/local/lib/python3.6/dist-packages (from matplotlib>=1.5.1->mlxtend) (1.3.1)\n",
            "Requirement already satisfied: cycler>=0.10 in /usr/local/lib/python3.6/dist-packages (from matplotlib>=1.5.1->mlxtend) (0.10.0)\n",
            "Requirement already satisfied: pyparsing!=2.0.4,!=2.1.2,!=2.1.6,>=2.0.1 in /usr/local/lib/python3.6/dist-packages (from matplotlib>=1.5.1->mlxtend) (2.4.7)\n",
            "Requirement already satisfied: six>=1.5 in /usr/local/lib/python3.6/dist-packages (from python-dateutil>=2.7.3->pandas>=0.17.1->mlxtend) (1.15.0)\n"
          ],
          "name": "stdout"
        }
      ]
    },
    {
      "cell_type": "code",
      "metadata": {
        "id": "YcGW6wp9XRy9",
        "colab": {
          "base_uri": "https://localhost:8080/"
        },
        "outputId": "acff74cc-fab6-4d9e-931f-9b52981c1fe0"
      },
      "source": [
        "import pandas as pd\n",
        "\n",
        "from mlxtend.frequent_patterns import apriori\n",
        "from mlxtend.frequent_patterns import association_rules\n",
        "dataset = pd.read_csv('pembelian.csv')\n",
        "transaksi = dataset.groupby(['No_Kwitansi','Nama_Barang'])['Jumlah'].sum()\n",
        "transaksi = transaksi.unstack().reset_index().fillna(0).set_index('No_Kwitansi')\n",
        "transaksi[transaksi>0]=1\n",
        "print('Tabel Transaksi:\\n', transaksi)\n",
        "frequent_itemsets=apriori(transaksi, min_support=0.3, use_colnames=True)\n",
        "rules=association_rules(frequent_itemsets, metric=\"confidence\", min_threshold=0.7)\n",
        "print('\\nAssociation Rules:\\n', rules[['antecedents', 'consequents', 'confidence']])"
      ],
      "execution_count": 3,
      "outputs": [
        {
          "output_type": "stream",
          "text": [
            "Tabel Transaksi:\n",
            " Nama_Barang   cpu   flashdisk   harddisk  ...   mouse   ram   speaker\n",
            "No_Kwitansi                               ...                        \n",
            "1             1.0         0.0        0.0  ...     1.0   0.0       0.0\n",
            "2             1.0         0.0        0.0  ...     0.0   0.0       1.0\n",
            "3             0.0         0.0        0.0  ...     0.0   1.0       1.0\n",
            "4             0.0         1.0        1.0  ...     0.0   1.0       0.0\n",
            "5             1.0         1.0        0.0  ...     0.0   0.0       1.0\n",
            "6             0.0         1.0        0.0  ...     0.0   0.0       1.0\n",
            "7             1.0         0.0        0.0  ...     0.0   0.0       0.0\n",
            "8             1.0         0.0        0.0  ...     0.0   1.0       0.0\n",
            "\n",
            "[8 rows x 9 columns]\n",
            "\n",
            "Association Rules:\n",
            "   antecedents consequents  confidence\n",
            "0      ( cpu)  ( monitor)        0.80\n",
            "1  ( monitor)      ( cpu)        0.80\n",
            "2      ( mic)  ( speaker)        1.00\n",
            "3  ( speaker)      ( mic)        0.75\n"
          ],
          "name": "stdout"
        }
      ]
    }
  ]
}